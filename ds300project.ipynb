{
 "cells": [
  {
   "cell_type": "code",
   "execution_count": 3,
   "metadata": {},
   "outputs": [],
   "source": [
    "import pandas as pd\n",
    "import numpy as np\n",
    "from sklearn.neighbors import KNeighborsClassifier\n",
    "from sklearn.model_selection import train_test_split\n",
    "from sklearn.linear_model import LinearRegression\n",
    "from sklearn.metrics import classification_report\n",
    "from sklearn.ensemble import RandomForestRegressor\n",
    "import matplotlib.pyplot as plt\n",
    "import seaborn as sns\n"
   ]
  },
  {
   "cell_type": "code",
   "execution_count": 8,
   "metadata": {},
   "outputs": [
    {
     "data": {
      "text/html": [
       "<div>\n",
       "<style scoped>\n",
       "    .dataframe tbody tr th:only-of-type {\n",
       "        vertical-align: middle;\n",
       "    }\n",
       "\n",
       "    .dataframe tbody tr th {\n",
       "        vertical-align: top;\n",
       "    }\n",
       "\n",
       "    .dataframe thead th {\n",
       "        text-align: right;\n",
       "    }\n",
       "</style>\n",
       "<table border=\"1\" class=\"dataframe\">\n",
       "  <thead>\n",
       "    <tr style=\"text-align: right;\">\n",
       "      <th></th>\n",
       "      <th>Unnamed: 0</th>\n",
       "      <th>Player</th>\n",
       "      <th>Tm</th>\n",
       "      <th>Pos</th>\n",
       "      <th>Age</th>\n",
       "      <th>G</th>\n",
       "      <th>GS</th>\n",
       "      <th>Cmp</th>\n",
       "      <th>Att</th>\n",
       "      <th>Yds</th>\n",
       "      <th>...</th>\n",
       "      <th>FumblesLost</th>\n",
       "      <th>PassingYds</th>\n",
       "      <th>PassingTD</th>\n",
       "      <th>PassingAtt</th>\n",
       "      <th>RushingYds</th>\n",
       "      <th>RushingTD</th>\n",
       "      <th>RushingAtt</th>\n",
       "      <th>ReceivingYds</th>\n",
       "      <th>ReceivingTD</th>\n",
       "      <th>FantasyPoints</th>\n",
       "    </tr>\n",
       "  </thead>\n",
       "  <tbody>\n",
       "    <tr>\n",
       "      <th>0</th>\n",
       "      <td>0</td>\n",
       "      <td>Christian McCaffrey</td>\n",
       "      <td>CAR</td>\n",
       "      <td>RB</td>\n",
       "      <td>23</td>\n",
       "      <td>16</td>\n",
       "      <td>16</td>\n",
       "      <td>0</td>\n",
       "      <td>2</td>\n",
       "      <td>0</td>\n",
       "      <td>...</td>\n",
       "      <td>0</td>\n",
       "      <td>0</td>\n",
       "      <td>0</td>\n",
       "      <td>2</td>\n",
       "      <td>1387</td>\n",
       "      <td>15</td>\n",
       "      <td>287</td>\n",
       "      <td>1005</td>\n",
       "      <td>4</td>\n",
       "      <td>469.20</td>\n",
       "    </tr>\n",
       "    <tr>\n",
       "      <th>1</th>\n",
       "      <td>1</td>\n",
       "      <td>Lamar Jackson</td>\n",
       "      <td>BAL</td>\n",
       "      <td>QB</td>\n",
       "      <td>22</td>\n",
       "      <td>15</td>\n",
       "      <td>15</td>\n",
       "      <td>265</td>\n",
       "      <td>401</td>\n",
       "      <td>3127</td>\n",
       "      <td>...</td>\n",
       "      <td>2</td>\n",
       "      <td>3127</td>\n",
       "      <td>36</td>\n",
       "      <td>401</td>\n",
       "      <td>1206</td>\n",
       "      <td>7</td>\n",
       "      <td>176</td>\n",
       "      <td>0</td>\n",
       "      <td>0</td>\n",
       "      <td>415.68</td>\n",
       "    </tr>\n",
       "    <tr>\n",
       "      <th>2</th>\n",
       "      <td>2</td>\n",
       "      <td>Derrick Henry</td>\n",
       "      <td>TEN</td>\n",
       "      <td>RB</td>\n",
       "      <td>25</td>\n",
       "      <td>15</td>\n",
       "      <td>15</td>\n",
       "      <td>0</td>\n",
       "      <td>0</td>\n",
       "      <td>0</td>\n",
       "      <td>...</td>\n",
       "      <td>3</td>\n",
       "      <td>0</td>\n",
       "      <td>0</td>\n",
       "      <td>0</td>\n",
       "      <td>1540</td>\n",
       "      <td>16</td>\n",
       "      <td>303</td>\n",
       "      <td>206</td>\n",
       "      <td>2</td>\n",
       "      <td>294.60</td>\n",
       "    </tr>\n",
       "    <tr>\n",
       "      <th>3</th>\n",
       "      <td>3</td>\n",
       "      <td>Aaron Jones</td>\n",
       "      <td>GNB</td>\n",
       "      <td>RB</td>\n",
       "      <td>25</td>\n",
       "      <td>16</td>\n",
       "      <td>16</td>\n",
       "      <td>0</td>\n",
       "      <td>0</td>\n",
       "      <td>0</td>\n",
       "      <td>...</td>\n",
       "      <td>2</td>\n",
       "      <td>0</td>\n",
       "      <td>0</td>\n",
       "      <td>0</td>\n",
       "      <td>1084</td>\n",
       "      <td>16</td>\n",
       "      <td>236</td>\n",
       "      <td>474</td>\n",
       "      <td>3</td>\n",
       "      <td>314.80</td>\n",
       "    </tr>\n",
       "    <tr>\n",
       "      <th>4</th>\n",
       "      <td>4</td>\n",
       "      <td>Ezekiel Elliott</td>\n",
       "      <td>DAL</td>\n",
       "      <td>RB</td>\n",
       "      <td>24</td>\n",
       "      <td>16</td>\n",
       "      <td>16</td>\n",
       "      <td>0</td>\n",
       "      <td>0</td>\n",
       "      <td>0</td>\n",
       "      <td>...</td>\n",
       "      <td>2</td>\n",
       "      <td>0</td>\n",
       "      <td>0</td>\n",
       "      <td>0</td>\n",
       "      <td>1357</td>\n",
       "      <td>12</td>\n",
       "      <td>301</td>\n",
       "      <td>420</td>\n",
       "      <td>2</td>\n",
       "      <td>311.70</td>\n",
       "    </tr>\n",
       "  </tbody>\n",
       "</table>\n",
       "<p>5 rows × 28 columns</p>\n",
       "</div>"
      ],
      "text/plain": [
       "   Unnamed: 0               Player   Tm Pos  Age   G  GS  Cmp  Att   Yds  ...  \\\n",
       "0           0  Christian McCaffrey  CAR  RB   23  16  16    0    2     0  ...   \n",
       "1           1        Lamar Jackson  BAL  QB   22  15  15  265  401  3127  ...   \n",
       "2           2        Derrick Henry  TEN  RB   25  15  15    0    0     0  ...   \n",
       "3           3          Aaron Jones  GNB  RB   25  16  16    0    0     0  ...   \n",
       "4           4      Ezekiel Elliott  DAL  RB   24  16  16    0    0     0  ...   \n",
       "\n",
       "   FumblesLost  PassingYds  PassingTD  PassingAtt  RushingYds  RushingTD  \\\n",
       "0            0           0          0           2        1387         15   \n",
       "1            2        3127         36         401        1206          7   \n",
       "2            3           0          0           0        1540         16   \n",
       "3            2           0          0           0        1084         16   \n",
       "4            2           0          0           0        1357         12   \n",
       "\n",
       "   RushingAtt  ReceivingYds  ReceivingTD  FantasyPoints  \n",
       "0         287          1005            4         469.20  \n",
       "1         176             0            0         415.68  \n",
       "2         303           206            2         294.60  \n",
       "3         236           474            3         314.80  \n",
       "4         301           420            2         311.70  \n",
       "\n",
       "[5 rows x 28 columns]"
      ]
     },
     "execution_count": 8,
     "metadata": {},
     "output_type": "execute_result"
    }
   ],
   "source": [
    "df = pd.read_csv('CombinedData.csv')\n",
    "#change csv to huge csv file with all data\n",
    "# i got this data from the yearly file\n",
    "df.head()"
   ]
  },
  {
   "cell_type": "code",
   "execution_count": 5,
   "metadata": {},
   "outputs": [
    {
     "data": {
      "text/plain": [
       "(2981, 28)"
      ]
     },
     "execution_count": 5,
     "metadata": {},
     "output_type": "execute_result"
    }
   ],
   "source": [
    "df.shape"
   ]
  },
  {
   "cell_type": "code",
   "execution_count": 7,
   "metadata": {},
   "outputs": [
    {
     "data": {
      "text/plain": [
       "Unnamed: 0         int64\n",
       "Player            object\n",
       "Tm                object\n",
       "Pos               object\n",
       "Age                int64\n",
       "G                  int64\n",
       "GS                 int64\n",
       "Cmp                int64\n",
       "Att                int64\n",
       "Yds                int64\n",
       "Int                int64\n",
       "Att.1              int64\n",
       "Yds.1              int64\n",
       "Tgt                int64\n",
       "Rec                int64\n",
       "Yds.2              int64\n",
       "Y/R              float64\n",
       "Fumbles            int64\n",
       "FumblesLost        int64\n",
       "PassingYds         int64\n",
       "PassingTD          int64\n",
       "PassingAtt         int64\n",
       "RushingYds         int64\n",
       "RushingTD          int64\n",
       "RushingAtt         int64\n",
       "ReceivingYds       int64\n",
       "ReceivingTD        int64\n",
       "FantasyPoints    float64\n",
       "dtype: object"
      ]
     },
     "execution_count": 7,
     "metadata": {},
     "output_type": "execute_result"
    }
   ],
   "source": [
    "df.dtypes"
   ]
  },
  {
   "cell_type": "code",
   "execution_count": 9,
   "metadata": {},
   "outputs": [
    {
     "data": {
      "text/plain": [
       "Unnamed: 0       0\n",
       "Player           0\n",
       "Tm               0\n",
       "Pos              0\n",
       "Age              0\n",
       "G                0\n",
       "GS               0\n",
       "Cmp              0\n",
       "Att              0\n",
       "Yds              0\n",
       "Int              0\n",
       "Att.1            0\n",
       "Yds.1            0\n",
       "Tgt              0\n",
       "Rec              0\n",
       "Yds.2            0\n",
       "Y/R              0\n",
       "Fumbles          0\n",
       "FumblesLost      0\n",
       "PassingYds       0\n",
       "PassingTD        0\n",
       "PassingAtt       0\n",
       "RushingYds       0\n",
       "RushingTD        0\n",
       "RushingAtt       0\n",
       "ReceivingYds     0\n",
       "ReceivingTD      0\n",
       "FantasyPoints    0\n",
       "dtype: int64"
      ]
     },
     "execution_count": 9,
     "metadata": {},
     "output_type": "execute_result"
    }
   ],
   "source": [
    "df.isnull().sum()"
   ]
  },
  {
   "cell_type": "code",
   "execution_count": null,
   "metadata": {},
   "outputs": [],
   "source": []
  },
  {
   "cell_type": "code",
   "execution_count": 10,
   "metadata": {},
   "outputs": [],
   "source": [
    "X   = df[['G', 'GS', 'Cmp', 'Att',\n",
    "       'Yds', 'Int', 'Att.1', 'Yds.1', 'Tgt', 'Rec', 'Yds.2', 'Y/R', 'Fumbles',\n",
    "       'FumblesLost', 'PassingYds', 'PassingTD', 'PassingAtt', 'RushingYds',\n",
    "       'RushingTD', 'RushingAtt', 'ReceivingYds', 'ReceivingTD']] #get the input features\n",
    "y   = df['FantasyPoints']              #get the target\n",
    "\n",
    "X_train, X_test, y_train, y_test = train_test_split(X,              #the input features\n",
    "                                                    y,              #the label\n",
    "                                                    test_size=0.3)  #set aside 30% of the data as the test set #reproduce the results"
   ]
  },
  {
   "cell_type": "code",
   "execution_count": null,
   "metadata": {},
   "outputs": [],
   "source": []
  },
  {
   "cell_type": "code",
   "execution_count": 11,
   "metadata": {},
   "outputs": [
    {
     "name": "stdout",
     "output_type": "stream",
     "text": [
      "-1.1368683772161603e-13\n",
      "[ 2.21063924e-14 -1.75970349e-14  5.73759790e-15 -1.67294288e-02\n",
      " -3.11807163e-03 -2.00000000e+00  6.80686630e-03 -7.42314766e-02\n",
      " -4.64905892e-16  1.00000000e+00  9.67482325e-02  9.76432477e-16\n",
      "  2.03038541e-15 -2.00000000e+00  4.31180716e-02  4.00000000e+00\n",
      "  1.67294288e-02  1.74231477e-01  6.00000000e+00 -6.80686630e-03\n",
      "  3.25176747e-03  6.00000000e+00]\n",
      "Model train score: 1.0\n",
      "Model test score: 1.0\n"
     ]
    }
   ],
   "source": [
    "# Linear Regression\n",
    "model = LinearRegression().fit(X_train, y_train)\n",
    "#model intercept\n",
    "print(model.intercept_)\n",
    "# model slope\n",
    "print(model.coef_)\n",
    "\n",
    "# R^2 value\n",
    "model_train_score = model.score(X_train, y_train)\n",
    "model_test_score = model.score(X_test, y_test)\n",
    "\n",
    "print(\"Model train score:\", model.score(X_train, y_train))\n",
    "print(\"Model test score:\", model.score(X_test, y_test))"
   ]
  },
  {
   "cell_type": "code",
   "execution_count": 12,
   "metadata": {},
   "outputs": [
    {
     "name": "stdout",
     "output_type": "stream",
     "text": [
      "Model train score: 0.9979532456016363\n",
      "Model test score: 0.9875451900761074\n"
     ]
    }
   ],
   "source": [
    "# Random forest\n",
    "model = RandomForestRegressor(random_state=0).fit(X_train, y_train)\n",
    "print(\"Model train score:\", model.score(X_train, y_train))\n",
    "print(\"Model test score:\", model.score(X_test, y_test))\n"
   ]
  },
  {
   "cell_type": "code",
   "execution_count": 15,
   "metadata": {},
   "outputs": [
    {
     "name": "stdout",
     "output_type": "stream",
     "text": [
      "Feature: 0, Score: 0.00061\n",
      "Feature: 1, Score: 0.57495\n",
      "Feature: 2, Score: 0.00232\n",
      "Feature: 3, Score: 0.00159\n",
      "Feature: 4, Score: 0.00550\n",
      "Feature: 5, Score: 0.00061\n",
      "Feature: 6, Score: 0.02032\n",
      "Feature: 7, Score: 0.02869\n",
      "Feature: 8, Score: 0.01109\n",
      "Feature: 9, Score: 0.17936\n",
      "Feature: 10, Score: 0.03763\n",
      "Feature: 11, Score: 0.00127\n",
      "Feature: 12, Score: 0.00358\n",
      "Feature: 13, Score: 0.00075\n",
      "Feature: 14, Score: 0.00632\n",
      "Feature: 15, Score: 0.01948\n",
      "Feature: 16, Score: 0.00147\n",
      "Feature: 17, Score: 0.02815\n",
      "Feature: 18, Score: 0.00813\n",
      "Feature: 19, Score: 0.02651\n",
      "Feature: 20, Score: 0.03685\n",
      "Feature: 21, Score: 0.00482\n"
     ]
    },
    {
     "data": {
      "image/png": "[encoded data removed]",
      "text/plain": [
       "<Figure size 432x288 with 1 Axes>"
      ]
     },
     "metadata": {
      "needs_background": "light"
     },
     "output_type": "display_data"
    }
   ],
   "source": [
    "importance = model.feature_importances_\n",
    "for i,v in enumerate(importance):\n",
    "\tprint('Feature: %0d, Score: %.5f' % (i,v))\n",
    "\n",
    "plt.bar([x for x in range(len(importance))], importance)\n",
    "feat_labels = ['G', 'GS', 'Cmp', 'Att',\n",
    "       'Yds', 'Int', 'Att.1', 'Yds.1', 'Tgt', 'Rec', 'Yds.2', 'Y/R', 'Fumbles',\n",
    "       'FumblesLost', 'PassingYds', 'PassingTD', 'PassingAtt', 'RushingYds',\n",
    "       'RushingTD', 'RushingAtt', 'ReceivingYds', 'ReceivingTD']\n",
    "plt.xticks([x for x in range(len(importance))], feat_labels, rotation='vertical')\n",
    "plt.title('The Importance of Each Feature in this Model')\n",
    "plt.xlabel('Feature')\n",
    "plt.ylabel('Importance')\n",
    "plt.show()"
   ]
  },
  {
   "cell_type": "code",
   "execution_count": null,
   "metadata": {},
   "outputs": [],
   "source": [
    "# Support vector machine"
   ]
  },
  {
   "cell_type": "code",
   "execution_count": null,
   "metadata": {},
   "outputs": [],
   "source": []
  }
 ],
 "metadata": {
  "kernelspec": {
   "display_name": "Python 3 (ipykernel)",
   "language": "python",
   "name": "python3"
  },
  "language_info": {
   "codemirror_mode": {
    "name": "ipython",
    "version": 3
   },
   "file_extension": ".py",
   "mimetype": "text/x-python",
   "name": "python",
   "nbconvert_exporter": "python",
   "pygments_lexer": "ipython3",
   "version": "3.9.7"
  }
 },
 "nbformat": 4,
 "nbformat_minor": 4
}
